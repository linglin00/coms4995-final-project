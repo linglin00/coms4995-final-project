{
 "cells": [
  {
   "cell_type": "code",
   "execution_count": 37,
   "metadata": {
    "scrolled": false
   },
   "outputs": [],
   "source": [
    "import os\n",
    "\n",
    "class MyNote:\n",
    "    def __init__(self, channel, duration, action, note, velocity):\n",
    "        self.channel = channel\n",
    "        self.duration = duration\n",
    "        self.action = action\n",
    "        self.note = note\n",
    "        self.velocity = velocity\n",
    "        \n",
    "note_names = ['C','C#','D','D#','E','F','F#','G','G#','A','A#','B']\n",
    "\n",
    "def convert_int_to_note(note_int, channel, duration, action, velocity):\n",
    "    note_name = \"C\"\n",
    "    note_octave = 0\n",
    "    if note_int == 1:\n",
    "        note_name = \"A\"\n",
    "    elif note_int == 2:\n",
    "        note_name = \"A#\"\n",
    "    elif note_int == 3:\n",
    "        note_name = \"B\"\n",
    "    else:\n",
    "        nrange = int((note_int - 3) / len(note_names))\n",
    "        nidx = note_int - 4 - nrange * len(note_names)\n",
    "        note_name = note_names[nidx]\n",
    "        note_octave = nrange + 1\n",
    "    myNote = MyNote(channel, duration, action, note_name + str(note_octave), velocity)\n",
    "    return myNote\n",
    "\n",
    "def convertOneFile(inputFile):\n",
    "    recs = []\n",
    "    with open(inputFile, 'r') as fp:\n",
    "        content = fp.readline()\n",
    "        while content:\n",
    "            tokens = [x.strip() for x in content.split(',')]\n",
    "            if tokens[2] == \"Note_on_c\" or tokens[2] == \"Note_off_c\":\n",
    "                vec = convert_int_to_note(int(tokens[4]), tokens[0], tokens[1], tokens[2], tokens[5])\n",
    "                recs.append(vec)\n",
    "            content = fp.readline()\n",
    "    return recs\n",
    "\n",
    "def constructNoteStr(recs):\n",
    "    noteStr = \"\"\n",
    "    for i in range(0, len(recs)):\n",
    "        if recs[i].action == \"Note_on_c\":\n",
    "            noteStr = noteStr + \" \" + recs[i].note\n",
    "    return noteStr.strip()\n",
    "\n",
    "all_files = os.listdir(\"csvToConvert\")\n",
    "with open('data_list.txt', 'w') as olfp:\n",
    "    for file in all_files:\n",
    "        fname = \"csvToConvert/\" + file\n",
    "        olfp.write(fname + \"\\n\")\n",
    "        recs = convertOneFile(fname)\n",
    "        noteStr = noteStr + constructNoteStr(recs) + \"\\n\"\n",
    "\n",
    "with open('data.txt', 'w') as ofp:\n",
    "    ofp.write(noteStr)"
   ]
  },
  {
   "cell_type": "code",
   "execution_count": null,
   "metadata": {},
   "outputs": [],
   "source": []
  }
 ],
 "metadata": {
  "kernelspec": {
   "display_name": "Python 3",
   "language": "python",
   "name": "python3"
  },
  "language_info": {
   "codemirror_mode": {
    "name": "ipython",
    "version": 3
   },
   "file_extension": ".py",
   "mimetype": "text/x-python",
   "name": "python",
   "nbconvert_exporter": "python",
   "pygments_lexer": "ipython3",
   "version": "3.5.3"
  }
 },
 "nbformat": 4,
 "nbformat_minor": 2
}
