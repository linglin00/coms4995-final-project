{
 "cells": [
  {
   "cell_type": "code",
   "execution_count": 1,
   "metadata": {},
   "outputs": [],
   "source": [
    "from music21 import stream, note, midi, instrument\n",
    "from music21.pitch import PitchException, AccidentalException\n",
    "from music21.instrument import *\n",
    "import os\n",
    "\n",
    "\n",
    "def text_to_mid(source_file, dest_dir, notelength='eighth', output_instrument=Piano()):\n",
    "    with open(source_file) as f:\n",
    "        lines = f.readlines()\n",
    "    \n",
    "    # Check if destination exists and create if not\n",
    "    if not os.path.exists(dest_dir):\n",
    "        os.makedirs(dest_dir)\n",
    "    \n",
    "    total = len(lines)\n",
    "    i = 1\n",
    "    for line in lines:\n",
    "        s1 = stream.Stream()\n",
    "        s1.voices\n",
    "        for token in line.split(' '):\n",
    "            try:\n",
    "                s1.append(note.Note(token, type=notelength))\n",
    "            except (PitchException, AccidentalException):\n",
    "                continue\n",
    "        s1.insert(0, output_instrument)\n",
    "        s1.write('midi', os.path.join(dest_dir, \n",
    "                                      os.path.splitext(os.path.basename(source_file))[0] + \n",
    "                                      '_' + str(i) + '.mid')\n",
    "                )\n",
    "        print(\"Created midi file\", i, \"out of\", total)\n",
    "        i += 1"
   ]
  },
  {
   "cell_type": "code",
   "execution_count": null,
   "metadata": {},
   "outputs": [],
   "source": [
    "text_to_mid('../coms4995-final-project/automusic-230000.txt', '../test/')\n",
    "print('Complete!')"
   ]
  }
 ],
 "metadata": {
  "kernelspec": {
   "display_name": "Python 3",
   "language": "python",
   "name": "python3"
  },
  "language_info": {
   "codemirror_mode": {
    "name": "ipython",
    "version": 3
   },
   "file_extension": ".py",
   "mimetype": "text/x-python",
   "name": "python",
   "nbconvert_exporter": "python",
   "pygments_lexer": "ipython3",
   "version": "3.6.5"
  }
 },
 "nbformat": 4,
 "nbformat_minor": 2
}
